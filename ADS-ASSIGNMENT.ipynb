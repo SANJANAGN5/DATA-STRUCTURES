{
  "metadata": {
    "kernelspec": {
      "name": "python",
      "display_name": "Python (Pyodide)",
      "language": "python"
    },
    "language_info": {
      "codemirror_mode": {
        "name": "python",
        "version": 3
      },
      "file_extension": ".py",
      "mimetype": "text/x-python",
      "name": "python",
      "nbconvert_exporter": "python",
      "pygments_lexer": "ipython3",
      "version": "3.8"
    }
  },
  "nbformat_minor": 5,
  "nbformat": 4,
  "cells": [
    {
      "id": "c64dd480-737b-4a53-b8b8-737b841d5b70",
      "cell_type": "markdown",
      "source": "STACK ASSIGNMENT",
      "metadata": {}
    },
    {
      "id": "6b473245-db1f-41ed-be99-8de3a6a3ab5f",
      "cell_type": "markdown",
      "source": "1.Implement unlimited size stack",
      "metadata": {}
    },
    {
      "id": "e676c622-23b6-425c-8f7a-977d821d4639",
      "cell_type": "code",
      "source": "class simplestack:\n    def __init__(self):\n        self.count = 0\n        self.data = []\n    def is_empty(self):\n        return self.count == 0\n    def stack_push(self, ele):\n        self.data.append(ele)\n        self.count += 1\n        print(f'pushed {ele} , now stack is : {self.data}')\n    def stack_pop(self):\n        if not self.is_empty():\n           self.count -= 1\n           popped = self.data.pop()\n           print(f'Popped Element {popped} , now stack is : {self.data}')\n           return popped\n        else:\n           print(\"Stack is empty, cannot pop.\")\n           return None\n            \n    def stack_peek(self):\n        if not self.is_empty():\n            print(f'peeked element : {self.data[-1]}')\n            return self.data[-1]\n        else:\n           print(\"Stack is empty, cannot peek.\")\n           return None\n    def stack_count(self):\n        print(f'Total elements in stack: {self.count}')\n        return self.count\n       \n\n\n\n#teststack.py\ndef test_emptystack():\n    print(\"Running test_emptystack...\")\n    s1 = simplestack()\n    assert s1.is_empty() == True\n    print(\"Test passed: stack is empty.\\n\")\n\ndef test_add():\n    print(\"Running test_add...\")\n    s1 = simplestack()\n    s1.stack_push(10)\n    s1.stack_push(20)\n    s1.stack_push(30)\n    s1.stack_push(40)\n    assert s1.stack_count() == 4\n    print(\"Test passed: elements added.\\n\")\n\ndef test_pop():\n    print(\"Running test_pop...\")\n    s1 = simplestack()\n    s1.stack_push(99)\n    popped = s1.stack_pop()\n    assert popped == 99\n    assert s1.stack_count() == 0\n    print(\"Test passed: element popped correctly.\\n\")\n\n\n# Run tests\ntest_emptystack()\ntest_add()\ntest_pop()",
      "metadata": {
        "trusted": true
      },
      "outputs": [
        {
          "name": "stdout",
          "output_type": "stream",
          "text": "Running test_emptystack...\nTest passed: stack is empty.\n\nRunning test_add...\npushed 10 , now stack is : [10]\npushed 20 , now stack is : [10, 20]\npushed 30 , now stack is : [10, 20, 30]\npushed 40 , now stack is : [10, 20, 30, 40]\nTotal elements in stack: 4\nTest passed: elements added.\n\nRunning test_pop...\npushed 99 , now stack is : [99]\nPopped Element 99 , now stack is : []\nTotal elements in stack: 0\nTest passed: element popped correctly.\n\n"
        }
      ],
      "execution_count": 10
    },
    {
      "id": "0addc80e-f0aa-46ab-b1c7-d2db48a8cb85",
      "cell_type": "markdown",
      "source": "2.Implement limited size Stack",
      "metadata": {}
    },
    {
      "id": "65aa0d7a-ce69-4ab8-9f69-4cb8479aa0d6",
      "cell_type": "code",
      "source": "class simplestack_limitedsize:\n    def __init__(self, max_size):\n        self.max_size = max_size\n        self.count = 0\n        self.data = []\n    def is_empty(self):\n        return self.count == 0\n    def is_full(self):\n        return self.count == self.max_size\n    def stack_push(self, ele):\n        if self.is_full():\n           print(f'Cannot push {ele}: Stack is full (max size = {self.max_size}')\n           return False \n        self.data.append(ele)\n        self.count += 1\n        print(f\"Pushed {ele}, now Stack is: {self.data}\")\n        return True\n    def stack_pop(self):\n        if not self.is_empty():\n           self.count -= 1\n           popped = self.data.pop()\n           print(f\"Popped element {popped}, now stack is {self.data}\")\n           return popped\n        else:\n           print(\"Stack is empty, cannot pop\")\n           return None\n    def stack_peek(self):\n        if not self.isempty():\n            print(f\"Peeked element: {self.data[-1]}\")\n            return self.data\n        else:\n            print(\"Stack is empty, cannot peek\")\n            return None\n    def stack_count(self):\n        print(f\"Total elements in stack : {self.count}\")\n        return self.count\n\n#test stack\ndef test_limited_stack():\n    print(\"Running test limited stack..\")\n    s = simplestack_limitedsize(max_size=3)\n    assert s.stack_push(1) == True\n    assert s.stack_push(2) == True\n    assert s.stack_push(3) == True\n    assert s.stack_push(4) == False\n    assert s.stack_count() == 3\n    print(\"Test passed: Limited size enforced\")\n\ntest_limited_stack()",
      "metadata": {
        "trusted": true
      },
      "outputs": [
        {
          "name": "stdout",
          "output_type": "stream",
          "text": "Running test limited stack..\nPushed 1, now Stack is: [1]\nPushed 2, now Stack is: [1, 2]\nPushed 3, now Stack is: [1, 2, 3]\nCannot push 4: Stack is full (max size = 3\nTotal elements in stack : 3\nTest passed: Limited size enforced\n"
        }
      ],
      "execution_count": 13
    },
    {
      "id": "f26ea9aa-839a-4bdc-9ab0-9814d4badd0f",
      "cell_type": "markdown",
      "source": "3.Reverse the content of file using Stack",
      "metadata": {}
    },
    {
      "id": "9e8f4457-32ce-41b3-a422-0c7c3dbe775d",
      "cell_type": "code",
      "source": "class Stack:\n    def __init__(self):\n        self.data = []\n\n    def push(self, item):\n        self.data.append(item)\n\n    def pop(self):\n        if not self.is_empty():\n            return self.data.pop()\n        return None\n\n    def is_empty(self):\n        return len(self.data) == 0\n\ndef reverse_file_lines(input_filename, output_filename):\n        stack = Stack()\n\n        with open(input_filename, 'r') as file:\n            for line in file:\n                stack.push(line.rstrip('\\n'))\n\n        with open(output_filename, 'w') as file:\n            while not stack.is_empty():\n                file.write(stack.pop() + '\\n')\n\ninput_file = \"file1.txt\"\noutput_file = 'reversed_output.txt'\n\nreverse_file_lines(input_file, output_file)\nprint(f\"File '{input_file}' reversed line-by-line into '{output_file}'.\")",
      "metadata": {
        "trusted": true
      },
      "outputs": [
        {
          "name": "stdout",
          "output_type": "stream",
          "text": "File 'file1.txt' reversed line-by-line into 'reversed_output.txt'.\n"
        }
      ],
      "execution_count": 21
    },
    {
      "id": "d8d149a3-7c99-4ab9-92e2-3e22e98b6abd",
      "cell_type": "markdown",
      "source": "4.Match the parentheses using Stack",
      "metadata": {}
    },
    {
      "id": "eb314fd3-2092-41d0-a034-37e4a71fe6f6",
      "cell_type": "code",
      "source": "def match_parentheses(expr):\n    stack = []\n    opening = '({['\n    closing = ')}]'\n    matches = {')' : '(', '}':'{', ']':'['}\n\n    for char in expr:\n        if char in opening:\n           stack.append(char)\n        elif char in closing:\n           if not stack:\n              return False\n           top = stack.pop()\n           if matches[char] != top:\n              return False\n               \n    return len(stack) == 0\n\nprint(match_parentheses(\"()\"))   \nprint(match_parentheses(\"({[]})\"))          \nprint(match_parentheses(\"({[)]}\"))           \nprint(match_parentheses(\"((()))\"))            \nprint(match_parentheses(\"((())\"))             \nprint(match_parentheses(\")(\"))      ",
      "metadata": {
        "trusted": true
      },
      "outputs": [
        {
          "name": "stdout",
          "output_type": "stream",
          "text": "True\nTrue\nFalse\nTrue\nFalse\nFalse\n"
        }
      ],
      "execution_count": 28
    },
    {
      "id": "26ca6587-4fcc-4ce1-ad43-bf07e2e0eee5",
      "cell_type": "markdown",
      "source": "5.Match the tags in HTML file using Stack",
      "metadata": {}
    },
    {
      "id": "48661584-eaf7-4a04-b1db-a95e593f254c",
      "cell_type": "code",
      "source": "import re\n\ndef match_html_tags(html):\n    stack = []\n    tags = re.findall(r'</?[^>]+>', html)  # <-- fix here!\n\n    for tag in tags:\n        if re.match(r'<[^/>]+/>', tag):  # self-closing tags, skip\n            continue\n        if not tag.startswith('</'):  # opening tag\n            tag_name = tag[1:-1].split()[0]\n            stack.append(tag_name)\n        else:  # closing tag\n            tag_name = tag[2:-1].split()[0]\n            if not stack or stack[-1] != tag_name:\n                return False\n            stack.pop()\n\n    return len(stack) == 0\n\n# Tests\nhtml1 = \"<html><body><h1>Title</h1></body></html>\"\nhtml2 = \"<div><p>Paragraph</div></p>\"\nhtml3 = \"<div><br /></div>\"\n\nprint(match_html_tags(html1))  # True\nprint(match_html_tags(html2))  # False\nprint(match_html_tags(html3))  # True\n",
      "metadata": {
        "trusted": true
      },
      "outputs": [
        {
          "name": "stdout",
          "output_type": "stream",
          "text": "True\nFalse\nTrue\n"
        }
      ],
      "execution_count": 34
    },
    {
      "id": "58fc9689-b7e3-49d7-9edb-9d141bd558d7",
      "cell_type": "markdown",
      "source": "6.Implement a function with signature transfer(S,T). This function transfers all elements \nfrom Stack S to Stack T. The sequence of elements in T should be same as that of S",
      "metadata": {}
    },
    {
      "id": "e21be3df-0009-48fe-8726-b14019f02057",
      "cell_type": "code",
      "source": "class simplestack:\n    def __init__(self):\n        self.data = []\n        self.count = 0\n    \n    def is_empty(self):\n        return self.count == 0\n    \n    def stack_push(self, ele):\n        self.data.append(ele)\n        self.count += 1\n        print(f\"Pushed {ele}, stack now: {self.data}\")\n    \n    def stack_pop(self):\n        if not self.is_empty():\n            self.count -= 1\n            popped = self.data.pop()\n            print(f\"Popped {popped}, stack now: {self.data}\")\n            return popped\n        else:\n            print(\"Stack is empty, cannot pop.\")\n            return None\n    \n    def stack_count(self):\n        return self.count\n        \ndef transfer(S, T):\n    temp = simplestack()\n\n    while not S.is_empty():\n      temp.stack_push(S.stack_pop())\n\n    while not temp.is_empty():\n      T.stack_push(temp.stack_pop())\n\n\nS = simplestack()\nT = simplestack()\n\nS.stack_push(1)\nS.stack_push(2)\nS.stack_push(3)\n\n\nprint(\"\\nTransferring elements from S to T...\\n\")\ntransfer(S, T)\n\nprint(\"\\nFinal stacks:\")\nprint(f\"S (should be empty): {S.data}\")\nprint(f\"T (should have [1, 2, 3]): {T.data}\")",
      "metadata": {
        "trusted": true
      },
      "outputs": [
        {
          "name": "stdout",
          "output_type": "stream",
          "text": "Pushed 1, stack now: [1]\nPushed 2, stack now: [1, 2]\nPushed 3, stack now: [1, 2, 3]\n\nTransferring elements from S to T...\n\nPopped 3, stack now: [1, 2]\nPushed 3, stack now: [3]\nPopped 2, stack now: [1]\nPushed 2, stack now: [3, 2]\nPopped 1, stack now: []\nPushed 1, stack now: [3, 2, 1]\nPopped 1, stack now: [3, 2]\nPushed 1, stack now: [1]\nPopped 2, stack now: [3]\nPushed 2, stack now: [1, 2]\nPopped 3, stack now: []\nPushed 3, stack now: [1, 2, 3]\n\nFinal stacks:\nS (should be empty): []\nT (should have [1, 2, 3]): [1, 2, 3]\n"
        }
      ],
      "execution_count": 42
    },
    {
      "id": "cc26a803-da11-411f-84fc-109362c54249",
      "cell_type": "markdown",
      "source": "7.Implement “Forward” and “Back” buttons of browser using Stacks. Elements need to be \nstored are URLs.",
      "metadata": {}
    },
    {
      "id": "e6ed9490-fa60-4e69-92e5-954858ab8551",
      "cell_type": "code",
      "source": "class Browser:\n    def __init__(self, homepage):\n        self.back_stack = [homepage]\n        self.forward_stack = []\n\n    def visit(self, url):\n        self.back_stack.append(url)\n        self.forward_stack.clear()\n        print(f\"visited: {url}\")\n    def back(self):\n        if len(self.back_stack) > 1:\n            self.forward_stack.append(self.back_stack.pop())\n            print(f\"Back to: {self.back_stack[-1]}\")\n            return self.back_stack[-1]\n        else:\n            print(\"No back history\")\n            return None\n            \n    def forward(self):\n        if self.forward_stack:\n            url = self.forward_stack.pop()\n            self.back_stack.append(url)\n            print(f\"forward to: {url}\")\n            return url\n        else:\n            print(\"No forward history\")\n            return self.back_stack[-1]\n    def current_page(self):\n        \"\"\"Show the current page\"\"\"\n        return self.back_stack[-1]\n\nif __name__ == \"__main__\":\n    browser = Browser(\"google.com\")\n\n    browser.visit(\"facebook.com\")\n    browser.visit(\"youtube.com\")\n    browser.back()\n    browser.back()\n    browser.forward()\n    browser.visit(\"linkedin.com\")\n    browser.forward()\n\n    print(\"\\nCurrent Page:\", browser.current_page())",
      "metadata": {
        "trusted": true
      },
      "outputs": [
        {
          "name": "stdout",
          "output_type": "stream",
          "text": "visited: facebook.com\nvisited: youtube.com\nBack to: facebook.com\nBack to: google.com\nforward to: facebook.com\nvisited: linkedin.com\nNo forward history\n\nCurrent Page: linkedin.com\n"
        }
      ],
      "execution_count": 10
    },
    {
      "id": "d64fea1a-40f9-4a66-b7f1-971a7381516d",
      "cell_type": "markdown",
      "source": "8.Modify Q5 such that HTML tags may contain attributes along with tag name",
      "metadata": {}
    },
    {
      "id": "69f2eb5b-a450-4d2e-8ee3-3b2387ac791c",
      "cell_type": "code",
      "source": "def is_matching_html_with_attributes(html):\n    stack = []\n    i = 0\n    while i < len(html):\n        if html[i] == \"<\":  \n            j = i + 1 \n            while j < len(html) and html[j] != \">\":\n                j += 1\n            if j == len(html):\n                return False  \n                \n            tag = html[i+1:j].strip() \n            \n            if tag.startswith(\"/\"):\n                tag_name = tag[1:].split()[0]  \n                if not stack or stack[-1] != tag_name:\n                    return False\n                stack.pop()\n            else:\n                tag_name = tag.split()[0]  \n                stack.append(tag_name)\n\n            i = j\n        i += 1\n\n    return len(stack) == 0  \n\n\nhtml1 = '<html><body><h1 class=\"title\">Hello</h1></body></html>'\nhtml2 = '<div id=\"main\"><p>Hello</div></p>'\nhtml3 = '<a href=\"https://example.com\">Link</a>'\n\nprint(is_matching_html_with_attributes(html1))  \nprint(is_matching_html_with_attributes(html2))  \nprint(is_matching_html_with_attributes(html3))  \n",
      "metadata": {
        "trusted": true
      },
      "outputs": [
        {
          "name": "stdout",
          "output_type": "stream",
          "text": "True\nFalse\nTrue\n"
        }
      ],
      "execution_count": 19
    },
    {
      "id": "833cdf1f-4c9b-4cbf-87da-a66351b65633",
      "cell_type": "markdown",
      "source": "QUEUE ASSIGNMENT",
      "metadata": {}
    },
    {
      "id": "e201800f-de79-446a-83e1-d5d185bdd95a",
      "cell_type": "markdown",
      "source": "1.Implement “Simple Queue” using list data structure",
      "metadata": {}
    },
    {
      "id": "97f574ca-c5a0-440a-a13e-5adbad45f6d0",
      "cell_type": "code",
      "source": "class simpleQueue:\n    def __init__(self):\n        self.queue = []\n    def enqueue(self, item):\n        self.queue.append(item)\n        print(f\"{item} added to queue\")\n    def dequeue(self):\n        if self.is_empty():\n          print(\"Queue is empty! cannot dequeue\")\n          return None\n        return self.queue.pop(0)\n    def peek(self):\n        if self.is_empty():\n            print(\"Queue is empty, no front element\")\n            return None\n        return self.queue[0]\n    def is_empty(self):\n        return len(self.queue) == 0\n    def display(self):\n        if self.is_empty():\n            print(\"Queue is empty\")\n        else:\n            print(\"Queue:\" , self.queue)\n\nq = simpleQueue()\nq.enqueue(10)\nq.enqueue(20)\nq.enqueue(30)\nq.display()\n\nprint(\"Dequeued:\", q.dequeue())\nq.display()\n\nprint(\"Front element:\", q.peek())",
      "metadata": {
        "trusted": true
      },
      "outputs": [
        {
          "name": "stdout",
          "output_type": "stream",
          "text": "10 added to queue\n20 added to queue\n30 added to queue\nQueue: [10, 20, 30]\nDequeued: 10\nQueue: [20, 30]\nFront element: 20\n"
        }
      ],
      "execution_count": 2
    },
    {
      "id": "eff53494-6c4b-42cf-940c-4b17965d5378",
      "cell_type": "markdown",
      "source": "2.Modify Q1 such that Simple Queue can contain limited amount of elements.",
      "metadata": {}
    },
    {
      "id": "74448245-6a7b-46e7-aad3-1913b86a6903",
      "cell_type": "code",
      "source": "class simpleQueue:\n    def __init__(self, max_size):\n        self.queue = []\n        self.max_size = max_size\n    def enqueue(self, item):\n        if len(self.queue) >= self.max_size:\n            print(\"Queue is full\")\n            return \n        self.queue.append(item)\n        print(f\"{item} added to queue\")\n    def dequeue(self):\n        if self.is_empty():\n          print(\"Queue is empty! cannot dequeue\")\n          return None\n        return self.queue.pop(0)\n    def peek(self):\n        if self.is_empty():\n            print(\"Queue is empty, no front element\")\n            return None\n        return self.queue[0]\n    def is_empty(self):\n        return len(self.queue) == 0\n    def is_full(self):\n        return len(self.queue) == self.max_size\n    def display(self):\n        if self.is_empty():\n            print(\"Queue is empty\")\n        else:\n            print(\"Queue:\", self.queue)\n\nq = simpleQueue(3)\nq.enqueue(10)\nq.enqueue(20)\nq.enqueue(30)\nq.display()\n\nq.enqueue(40)\nprint(\"Dequeued:\", q.dequeue())\nq.display()\n\nprint(\"Front element:\", q.peek())",
      "metadata": {
        "trusted": true,
        "scrolled": true
      },
      "outputs": [
        {
          "name": "stdout",
          "output_type": "stream",
          "text": "10 added to queue\n20 added to queue\n30 added to queue\nQueue: [10, 20, 30]\nQueue is full\nDequeued: 10\nQueue: [20, 30]\nFront element: 20\n"
        }
      ],
      "execution_count": 9
    },
    {
      "id": "ada39925-5feb-4aea-bf7c-709abe94de38",
      "cell_type": "markdown",
      "source": "3.Implement “FlexiQueue” with capacity to expand and shrunk based on elements to be \nadded or deleted.",
      "metadata": {}
    },
    {
      "id": "a25d3a18-110a-4ac7-b993-1264359461b6",
      "cell_type": "code",
      "source": "class FlexiQueue:\n    def __init__(self):\n        self.queue = []\n        self.capacity = 1   \n\n    def enqueue(self, item):\n        if len(self.queue) >= self.capacity:\n            self.capacity *= 2 \n            print(f\"Capacity doubled to {self.capacity}\")\n        self.queue.append(item)\n        print(f\"{item} added to queue\")\n\n    def dequeue(self):\n        if self.is_empty():\n            print(\"Queue is empty! Cannot dequeue.\")\n            return None\n        removed = self.queue.pop(0)\n\n        if len(self.queue) <= self.capacity // 2 and self.capacity > 1:\n            self.capacity //= 2\n            print(f\"Capacity shrunk to {self.capacity}\")\n        return removed\n\n    def peek(self):\n        if self.is_empty():\n            print(\"Queue is empty! No front element.\")\n            return None\n        return self.queue[0]\n\n    def is_empty(self):\n        return len(self.queue) == 0\n\n    def display(self):\n        if self.is_empty():\n            print(\"Queue is empty\")\n        else:\n            print(\"Queue:\", self.queue, \"| Capacity:\", self.capacity)\n\nq = FlexiQueue()\nq.enqueue(10)\nq.enqueue(20)\nq.enqueue(30)\nq.display()\n\nprint(\"Dequeued:\", q.dequeue())\nq.display()\n\nprint(\"Dequeued:\", q.dequeue())\nq.display()\n",
      "metadata": {
        "trusted": true
      },
      "outputs": [
        {
          "name": "stdout",
          "output_type": "stream",
          "text": "10 added to queue\nCapacity doubled to 2\n20 added to queue\nCapacity doubled to 4\n30 added to queue\nQueue: [10, 20, 30] | Capacity: 4\nCapacity shrunk to 2\nDequeued: 10\nQueue: [20, 30] | Capacity: 2\nCapacity shrunk to 1\nDequeued: 20\nQueue: [30] | Capacity: 1\n"
        }
      ],
      "execution_count": 11
    },
    {
      "id": "938b78ee-67ad-438a-8d35-a8f1dca3b774",
      "cell_type": "markdown",
      "source": "4.Implement Stack using two Queues",
      "metadata": {}
    },
    {
      "id": "f13eec9d-e300-4bd2-992b-4a03b119f27f",
      "cell_type": "code",
      "source": "from queue import Queue\n\nclass StackUsingQueues:\n    def __init__(self):\n        self.q1 = Queue()\n        self.q2 = Queue()\n\n    def push(self, x):\n        self.q2.put(x)\n\n        while not self.q1.empty():\n            self.q2.put(self.q1.get())\n\n        self.q1, self.q2 = self.q2, self.q1\n\n    def pop(self):\n        if self.q1.empty():\n            return None\n        return self.q1.get()\n\n    def top(self):\n        if self.q1.empty():\n            return None\n        return self.q1.queue[0]  \n\n    def empty(self):\n        return self.q1.empty()\n\ns = StackUsingQueues()\ns.push(10)\ns.push(20)\ns.push(30)\n\nprint(s.pop())  \nprint(s.top())  \nprint(s.pop())  \nprint(s.empty())  \nprint(s.pop())  \nprint(s.empty()) \n",
      "metadata": {
        "trusted": true
      },
      "outputs": [
        {
          "name": "stdout",
          "output_type": "stream",
          "text": "30\n20\n20\nFalse\n10\nTrue\n"
        }
      ],
      "execution_count": 12
    },
    {
      "id": "38d14998-97d8-490d-8d22-f71d7ba14ca8",
      "cell_type": "markdown",
      "source": "5.Implement Queue using two Stacks",
      "metadata": {}
    },
    {
      "id": "3710cd6f-bf96-499b-a751-d944b491989c",
      "cell_type": "code",
      "source": "class QueueUsingStacks:\n    def __init__(self):\n        self.s1 = []  \n        self.s2 = []  \n\n    def enqueue(self, x):\n        self.s1.append(x)\n\n    def dequeue(self):\n        if not self.s2: \n            while self.s1:\n                self.s2.append(self.s1.pop())\n        if not self.s2: \n            return None\n        return self.s2.pop()\n\n    def front(self):\n        if not self.s2:\n            while self.s1:\n                self.s2.append(self.s1.pop())\n        if not self.s2:\n            return None\n        return self.s2[-1]\n\n    def empty(self):\n        return not self.s1 and not self.s2\n\n\nq = QueueUsingStacks()\nq.enqueue(10)\nq.enqueue(20)\nq.enqueue(30)\n\nprint(q.dequeue())  \nprint(q.front())    \nprint(q.dequeue())  \nprint(q.empty())    \nprint(q.dequeue())  \nprint(q.empty())    \n",
      "metadata": {
        "trusted": true
      },
      "outputs": [
        {
          "name": "stdout",
          "output_type": "stream",
          "text": "10\n20\n20\nFalse\n30\nTrue\n"
        }
      ],
      "execution_count": 13
    },
    {
      "id": "7172d4f9-4a14-416b-88c4-d8d7c079615e",
      "cell_type": "markdown",
      "source": "6.Assume that we have Queue with some elements. Write method rotate() which added \nthe existing elements in the reverse order",
      "metadata": {}
    },
    {
      "id": "bd70d80a-d086-49a1-9ee0-6ec6057662d7",
      "cell_type": "code",
      "source": "from queue import Queue\n\nclass RotatableQueue(Queue):\n    def rotate(self):\n        stack = []\n        while not self.empty():\n            stack.append(self.get())\n\n        while stack:\n            self.put(stack.pop())\n\n\nq = RotatableQueue()\nq.put(10)\nq.put(20)\nq.put(30)\nq.put(40)\n\nprint(\"Before rotate:\")\nprint(list(q.queue))  \n\nq.rotate()\n\nprint(\"After rotate:\")\nprint(list(q.queue))   \n",
      "metadata": {
        "trusted": true
      },
      "outputs": [
        {
          "name": "stdout",
          "output_type": "stream",
          "text": "Before rotate:\n[10, 20, 30, 40]\nAfter rotate:\n[40, 30, 20, 10]\n"
        }
      ],
      "execution_count": 17
    },
    {
      "id": "b7e832f7-8799-4254-8875-8a806a7b7e37",
      "cell_type": "markdown",
      "source": "7.Implement findMax() method, which return the maximum value of element present in \nthe queue. After finding maximum element, queue content should be same as original",
      "metadata": {}
    },
    {
      "id": "63941b41-65d5-4b3f-890f-24d08a5dde48",
      "cell_type": "code",
      "source": "from queue import Queue\n\nclass MyQueue(Queue):\n    def findMax(self):\n        if self.empty():\n            return None   \n\n        n = self.qsize()\n        max_val = None\n        \n        for _ in range(n):\n            elem = self.get()   \n            if max_val is None or elem > max_val:\n                max_val = elem\n            self.put(elem)    \n        return max_val\n\nif __name__ == \"__main__\":\n    q = MyQueue()\n    q.put(10)\n    q.put(40)\n    q.put(30)\n    q.put(20)\n\n    print(\"Original queue:\", list(q.queue))\n    print(\"Maximum element:\", q.findMax())\n    print(\"Queue after findMax():\", list(q.queue))\n",
      "metadata": {
        "trusted": true
      },
      "outputs": [
        {
          "name": "stdout",
          "output_type": "stream",
          "text": "Original queue: [10, 40, 30, 20]\nMaximum element: 40\nQueue after findMax(): [10, 40, 30, 20]\n"
        }
      ],
      "execution_count": 2
    },
    {
      "id": "7f7ab684-a6e9-4e29-8fc8-832b81c97880",
      "cell_type": "code",
      "source": "",
      "metadata": {
        "trusted": true
      },
      "outputs": [],
      "execution_count": null
    }
  ]
}